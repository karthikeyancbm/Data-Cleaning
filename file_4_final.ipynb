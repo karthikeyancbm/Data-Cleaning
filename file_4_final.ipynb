{
 "cells": [
  {
   "cell_type": "code",
   "execution_count": 1,
   "id": "7a94b6cb",
   "metadata": {},
   "outputs": [],
   "source": [
    "from googleapiclient.discovery import build\n",
    "from googleapiclient.errors import HttpError\n",
    "from google_auth_oauthlib.flow import InstalledAppFlow\n",
    "from google.auth.transport.requests import Request\n",
    "import pickle\n",
    "import os\n",
    "import pandas as pd\n",
    "from googleapiclient.http import MediaFileUpload"
   ]
  },
  {
   "cell_type": "code",
   "execution_count": 2,
   "id": "70eacf8c",
   "metadata": {},
   "outputs": [],
   "source": [
    "LOCAL_FOLDER = r\"C:\\Users\\DELL\\Desktop\\vocuhers\"\n",
    "DRIVE_FOLDER_ID = \"19S1KlWBYKee7auPpg10vviewQJpMqn6X\"\n",
    "SCOPES = ['https://www.googleapis.com/auth/drive']\n",
    "CREDENTIALS_FILE = r\"C:\\Users\\DELL\\Desktop\\voucher\\key.json\"\n",
    "TOKEN_FILE = \"token.pickle\""
   ]
  },
  {
   "cell_type": "code",
   "execution_count": 3,
   "id": "14baeec4",
   "metadata": {},
   "outputs": [],
   "source": [
    "FOLDER_PATH = r\"C:\\Users\\DELL\\Desktop\\vocuhers\"\n",
    "SCOPES = ['https://www.googleapis.com/auth/drive.file']\n",
    "creds = None\n",
    "if os.path.exists('token.pickle'):\n",
    "    with open('token.pickle', 'rb') as token:\n",
    "        creds = pickle.load(token)\n",
    "\n",
    "if not creds or not creds.valid:\n",
    "    if creds and creds.expired and creds.refresh_token:\n",
    "        creds.refresh(Request())\n",
    "    else:\n",
    "        flow = InstalledAppFlow.from_client_secrets_file('key.json,SCOPES')\n",
    "        creds = flow.run_local_server(port=0)\n",
    "    with open('token.pickle', 'wb') as token:\n",
    "        pickle.dump(creds, token)\n",
    "\n",
    "drive_service = build('drive', 'v3', credentials=creds)"
   ]
  },
  {
   "cell_type": "code",
   "execution_count": 4,
   "id": "23ac2bc4",
   "metadata": {},
   "outputs": [
    {
     "name": "stdout",
     "output_type": "stream",
     "text": [
      "C:\\Users\\DELL\\Desktop\\vocuhers\\img_1.jpg\n",
      "C:\\Users\\DELL\\Desktop\\vocuhers\\img_2.jpg\n",
      "C:\\Users\\DELL\\Desktop\\vocuhers\\img_3.jpg\n",
      "C:\\Users\\DELL\\Desktop\\vocuhers\\voucher_image.jpg\n"
     ]
    }
   ],
   "source": [
    "for filename in os.listdir(LOCAL_FOLDER):\n",
    "    file_path = os.path.join(LOCAL_FOLDER, filename)\n",
    "    print(file_path)"
   ]
  },
  {
   "cell_type": "code",
   "execution_count": 5,
   "id": "4c895ba1",
   "metadata": {},
   "outputs": [
    {
     "name": "stdout",
     "output_type": "stream",
     "text": [
      "img_1.jpg\n",
      "img_2.jpg\n",
      "img_3.jpg\n",
      "voucher_image.jpg\n"
     ]
    }
   ],
   "source": [
    "for filename in os.listdir(LOCAL_FOLDER):\n",
    "    file_path = os.path.join(LOCAL_FOLDER, filename)\n",
    "    filename = os.path.basename(file_path)\n",
    "    print(filename) "
   ]
  },
  {
   "cell_type": "code",
   "execution_count": 6,
   "id": "674457cb",
   "metadata": {},
   "outputs": [
    {
     "name": "stdout",
     "output_type": "stream",
     "text": [
      "{'name': 'img_1.jpg', 'parents': ['19S1KlWBYKee7auPpg10vviewQJpMqn6X']}\n",
      "{'name': 'img_2.jpg', 'parents': ['19S1KlWBYKee7auPpg10vviewQJpMqn6X']}\n",
      "{'name': 'img_3.jpg', 'parents': ['19S1KlWBYKee7auPpg10vviewQJpMqn6X']}\n",
      "{'name': 'voucher_image.jpg', 'parents': ['19S1KlWBYKee7auPpg10vviewQJpMqn6X']}\n"
     ]
    }
   ],
   "source": [
    "for filename in os.listdir(LOCAL_FOLDER):\n",
    "    file_path = os.path.join(LOCAL_FOLDER, filename)\n",
    "    file_metadata = {'name': os.path.basename(file_path),'parents': [DRIVE_FOLDER_ID]}\n",
    "    print(file_metadata)"
   ]
  },
  {
   "cell_type": "code",
   "execution_count": 7,
   "id": "721d9a19",
   "metadata": {},
   "outputs": [],
   "source": [
    "def upload_file(file_path):\n",
    "    file_metadata = {'name': os.path.basename(file_path),'parents': [DRIVE_FOLDER_ID]}\n",
    "    media = MediaFileUpload(file_path, resumable=True)\n",
    "    \n",
    "    # Upload file\n",
    "    uploaded_file = drive_service.files().create(\n",
    "        body=file_metadata,\n",
    "        media_body=media,\n",
    "        fields='id'\n",
    "    ).execute()\n",
    "    \n",
    "    # Make file publicly readable\n",
    "    drive_service.permissions().create(\n",
    "        fileId=uploaded_file.get('id'),\n",
    "        body={'type': 'anyone', 'role': 'reader'}\n",
    "    ).execute()\n",
    "    \n",
    "    # Generate direct link\n",
    "    direct_link = f\"https://drive.google.com/uc?export=view&id={uploaded_file.get('id')}\"\n",
    "    return direct_link"
   ]
  },
  {
   "cell_type": "code",
   "execution_count": 8,
   "id": "d4a51320",
   "metadata": {},
   "outputs": [
    {
     "name": "stdout",
     "output_type": "stream",
     "text": [
      "Uploading: img_1.jpg\n",
      "✅ Uploaded: img_1.jpg → https://drive.google.com/uc?export=view&id=1i4T0IB1_YWrQhANJ7SZTIupxOubYfT37\n",
      "Uploading: img_2.jpg\n",
      "✅ Uploaded: img_2.jpg → https://drive.google.com/uc?export=view&id=1phWG6wi8VRzAfyqXnhiB1uxA0wuXwKxf\n",
      "Uploading: img_3.jpg\n",
      "✅ Uploaded: img_3.jpg → https://drive.google.com/uc?export=view&id=1fcqDWrZomRbpGDVc_HYwnRBkXxAsX7mc\n",
      "Uploading: voucher_image.jpg\n",
      "✅ Uploaded: voucher_image.jpg → https://drive.google.com/uc?export=view&id=1WJQLARasN7bo69ImkjXSDP-6tUqmBLsN\n"
     ]
    }
   ],
   "source": [
    "links = []\n",
    "for file_name in os.listdir(FOLDER_PATH):\n",
    "    file_path = os.path.join(FOLDER_PATH, file_name)\n",
    "    if os.path.isfile(file_path):\n",
    "        print(f\"Uploading: {file_name}\")\n",
    "        link = upload_file(file_path)\n",
    "        links.append({'file_name': file_name, 'link': link})\n",
    "        print(f\"✅ Uploaded: {file_name} → {link}\")"
   ]
  },
  {
   "cell_type": "code",
   "execution_count": 9,
   "id": "d7658913",
   "metadata": {},
   "outputs": [
    {
     "name": "stdout",
     "output_type": "stream",
     "text": [
      "✅ All links saved to uploaded_voucher_links.csv\n"
     ]
    }
   ],
   "source": [
    "df = pd.DataFrame(links)\n",
    "df.to_csv(\"uploaded_voucher_links.csv\", index=False)\n",
    "print(\"✅ All links saved to uploaded_voucher_links.csv\")"
   ]
  }
 ],
 "metadata": {
  "kernelspec": {
   "display_name": "Python 3",
   "language": "python",
   "name": "python3"
  },
  "language_info": {
   "codemirror_mode": {
    "name": "ipython",
    "version": 3
   },
   "file_extension": ".py",
   "mimetype": "text/x-python",
   "name": "python",
   "nbconvert_exporter": "python",
   "pygments_lexer": "ipython3",
   "version": "3.13.6"
  }
 },
 "nbformat": 4,
 "nbformat_minor": 5
}
